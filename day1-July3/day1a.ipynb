{
  "nbformat": 4,
  "nbformat_minor": 0,
  "metadata": {
    "colab": {
      "name": "day1a.ipynb",
      "version": "0.3.2",
      "provenance": [],
      "toc_visible": true,
      "include_colab_link": true
    },
    "kernelspec": {
      "name": "python3",
      "display_name": "Python 3"
    }
  },
  "cells": [
    {
      "cell_type": "markdown",
      "metadata": {
        "id": "view-in-github",
        "colab_type": "text"
      },
      "source": [
        "[View in Colaboratory](https://colab.research.google.com/github/xfxfsxf/AUAISummer2018/blob/master/day1-July3/day1a.ipynb)"
      ]
    },
    {
      "metadata": {
        "id": "mRY4KpJ0Gy6D",
        "colab_type": "code",
        "colab": {
          "base_uri": "https://localhost:8080/",
          "height": 0
        },
        "outputId": "6dd26c1a-567c-4066-b887-f085df8cb6d8"
      },
      "cell_type": "code",
      "source": [
        ""
      ],
      "execution_count": 0,
      "outputs": []
    },
    {
      "metadata": {
        "id": "Mv79lsCuRsZy",
        "colab_type": "text"
      },
      "cell_type": "markdown",
      "source": [
        "# AU AI Summer Programme\n",
        "\n",
        "**Resources**\n",
        "* [ Programme Outline ]( (https://lookaside.fbsbx.com/file/AUAI-Day1-A.pdf?token=AWxp2nI2hForwEHgJc_wGmiW968lix9xmOfeKLGB6MeSW3Dsu-nsY7ECSOGA6VzPIRIVeFyOeZrgEfq2jvYpNtzxA1ZIosRoahRxIa0-c0x4JfV22nPgklETmQf9j0iUFxyOPkRsOFaN73dC4Q6kGpql)\n",
        "*  [Gitbook Student Manual ]( (https://htchutw.gitbooks.io/2018-au-aisp-guide/content/)\n",
        "*  [ Course Outline ]((http://summer.aiplab.net/)\n",
        "\n",
        "---\n",
        "\n",
        "## Day 1A Assignment"
      ]
    }
  ]
}
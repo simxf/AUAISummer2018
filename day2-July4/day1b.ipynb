{
  "nbformat": 4,
  "nbformat_minor": 0,
  "metadata": {
    "colab": {
      "name": "day1b.ipynb",
      "version": "0.3.2",
      "provenance": [],
      "include_colab_link": true
    },
    "kernelspec": {
      "name": "python3",
      "display_name": "Python 3"
    }
  },
  "cells": [
    {
      "cell_type": "markdown",
      "metadata": {
        "id": "view-in-github",
        "colab_type": "text"
      },
      "source": [
        "[View in Colaboratory](https://colab.research.google.com/github/xfxfsxf/AUAISummer2018/blob/master/day2-July4/day1b.ipynb)"
      ]
    },
    {
      "metadata": {
        "id": "r_dOS8yTM3h0",
        "colab_type": "text"
      },
      "cell_type": "markdown",
      "source": [
        "# Day 1B Assignment\n",
        "\n",
        "##AI Terms \n",
        "\n",
        "Artificial Intelligence<br>\n",
        "* Systems that can demonstrate human-like reasoning capability<br>\n",
        "* AlphaGoZero: Learning from scratch<br>\n",
        "\n",
        "\n",
        "\n",
        "1.   Machine Learning\n",
        "    1. Supervised Machine Learning\n",
        "       1. Simple Linear Regression\n",
        "       2. Multiple Linear Regression\n",
        "    2. Unsupervised Machine Learning\n",
        "      1. Clustering\n",
        "      2. Association Rule Mining\n",
        "1. Deep Learning\n",
        "  1. Supervised learning\n",
        "  2. Perceptron\n",
        "  3. Activation functions\n",
        "  4. Deep Neural Networks\n",
        "    1. Images Classification\n",
        "    2. Convolutional Neural Network\n",
        "    3. CNN Architectures<br>\n",
        "    ImageNet Large Scale Visual Recognition Challenge (ILSVRC)<br>\n",
        "    Object Localization -Neural Networks\n",
        "    4. Recurrent Neural Networks\n",
        "    5. Speech Recognition\n",
        "    \n",
        "\n",
        "\n",
        "\n",
        "---\n"
      ]
    },
    {
      "metadata": {
        "id": "XTox95NIP8wd",
        "colab_type": "text"
      },
      "cell_type": "markdown",
      "source": [
        "\n",
        "##AI Challenge\n",
        "\n",
        "[Titanic: Machine Learning from Disaster]( (https://www.kaggle.com/c/titanic/data)\n",
        "\n",
        "###Overview\n",
        "*The sinking of the RMS Titanic is one of the most infamous shipwrecks in history.  On April 15, 1912, during her maiden voyage, the Titanic sank after colliding with an iceberg, killing 1502 out of 2224 passengers and crew. This sensational tragedy shocked the international community and led to better safety regulations for ships.*\n",
        "\n",
        "*One of the reasons that the shipwreck led to such loss of life was that there were not enough lifeboats for the passengers and crew. Although there was some element of luck involved in surviving the sinking, some groups of people were more likely to survive than others, such as women, children, and the upper-class.*\n",
        "\n",
        "*In this challenge, we ask you to complete the analysis of what sorts of people were likely to survive. In particular, we ask you to apply the tools of machine learning to predict which passengers survived the tragedy.*\n",
        "<br><br>\n",
        "\n",
        "###Data Dictionary\n",
        "\n",
        "Variable | Definition | Key\n",
        "------------ | ------------- | -------------\n",
        "survival | Survival | 0 = No, 1 = Yes\n",
        "pclass | Ticket class | 1 = 1st, 2 = 2nd, 3 = 3rd | \n",
        "sex | Sex | \n",
        "Age | Age in years | \n",
        "sibsp | # of siblings / spouses<br>aboard the Titanic | \n",
        "parch | # of parents / children<br>aboard the Titanic | \n",
        "ticket | Ticket number | \n",
        "fare | Passenger fare | \n",
        "cabin | Cabin number |  \n",
        "embarked | Port of Embarkation<br>C = Cherbourg,<br>Q = Queenstown,<br>S = Southampton | "
      ]
    }
  ]
}
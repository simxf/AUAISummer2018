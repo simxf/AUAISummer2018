{
  "nbformat": 4,
  "nbformat_minor": 0,
  "metadata": {
    "colab": {
      "name": "day2.ipynb",
      "version": "0.3.2",
      "provenance": [],
      "include_colab_link": true
    },
    "kernelspec": {
      "name": "python3",
      "display_name": "Python 3"
    }
  },
  "cells": [
    {
      "cell_type": "markdown",
      "metadata": {
        "id": "view-in-github",
        "colab_type": "text"
      },
      "source": [
        "[View in Colaboratory](https://colab.research.google.com/github/simxf/AUAISummer2018/blob/master/day2-July4/day2.ipynb)"
      ]
    },
    {
      "metadata": {
        "id": "sxLbvIFTS7L1",
        "colab_type": "text"
      },
      "cell_type": "markdown",
      "source": [
        "#Day 2 Assignment\n",
        "\n",
        "Topics Covered\n",
        "1. Google AIY Voice Kit\n"
      ]
    }
  ]
}
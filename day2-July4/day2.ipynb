{
  "nbformat": 4,
  "nbformat_minor": 0,
  "metadata": {
    "colab": {
      "name": "day2.ipynb",
      "version": "0.3.2",
      "provenance": []
    },
    "kernelspec": {
      "name": "python3",
      "display_name": "Python 3"
    }
  },
  "cells": [
    {
      "metadata": {
        "id": "sxLbvIFTS7L1",
        "colab_type": "text"
      },
      "cell_type": "markdown",
      "source": [
        "#Day 2 Assignment\n",
        "\n",
        "**Introduction**\n",
        "*  [Google AI]( (https://ai.google/)\n",
        "* Google Duplex\n",
        "* [Tacotron]( (https://google.github.io/tacotron/publications/tacotron2/) & [Wavenet]( (https://deepmind.com/blog/wavenet-generative-model-raw-audio/) <br>\n",
        "  * Tacotron and WaveNet is a model that generates speeches similar to the raw human voice from text.\n",
        "    ![Source: https://www.inside.com.tw/2018/01/01/tacotron-2](https://i1.wp.com/www.inside.com.tw/wp-content/uploads/2018/01/729a0f9b-image1.png?w=640&ssl=1 640w, https://i1.wp.com/www.inside.com.tw/wp-content/uploads/2018/01/729a0f9b-image1.png?resize=300%2C169&ssl=1 300w)\n",
        "* Google MLCC <br>\n",
        "  * [Machine Learning Crash Course]( (https://developers.google.com/machine-learning/crash-course/ml-intro)<br>\n",
        "  * [Exercises]( (https://developers.google.com/machine-learning/crash-course/exercises)\n",
        "  \n",
        "* [Tensorflow Playground]( (https://playground.tensorflow.org/)\n",
        "* Google AIY <br>\n",
        "(E.g. Voice Kit)\n",
        "* Google Assistant\n",
        "* Dialogflow <br>\n",
        "  ![Source: https://banner2.kisspng.com/20180613/aht/kisspng-dialogflow-firebase-google-assistant-actions-on-go-google-assistant-5b219efd4bd8f2.8162831115289300453107.jpg](https://banner2.kisspng.com/20180613/aht/kisspng-dialogflow-firebase-google-assistant-actions-on-go-google-assistant-5b219efd4bd8f2.8162831115289300453107.jpg)\n",
        "<br><br>\n",
        "\n",
        "\n",
        "---\n",
        "<br><br>\n",
        "**Installation of Programming Software**\n",
        "1. Installation of Anaconda\n",
        "2. Installation of Visual Studio Code\n",
        "3. Installation of TensorFlow in virtual environment\n",
        "  * Instructions for [Mac OS]( (https://www.tensorflow.org/install/install_mac)\n",
        "4. Connecting Jupyter Notebook with Python\n",
        "\n",
        "\n",
        "\n",
        "**Installation of Google AIY Voice Kit**\n",
        "\n",
        "[Google AIY Voice Kit]( (https://aiyprojects.withgoogle.com/voice/#connect)"
      ]
    },
    {
      "metadata": {
        "id": "lA1qI1hFV1B8",
        "colab_type": "code",
        "colab": {}
      },
      "cell_type": "code",
      "source": [
        ""
      ],
      "execution_count": 0,
      "outputs": []
    }
  ]
}
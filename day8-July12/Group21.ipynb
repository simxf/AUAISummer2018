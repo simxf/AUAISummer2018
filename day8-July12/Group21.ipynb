{
  "nbformat": 4,
  "nbformat_minor": 0,
  "metadata": {
    "colab": {
      "name": "Group21.ipynb",
      "version": "0.3.2",
      "provenance": []
    },
    "kernelspec": {
      "display_name": "Python 3",
      "language": "python",
      "name": "python3"
    }
  },
  "cells": [
    {
      "metadata": {
        "id": "ZMrEnWtQgVRn",
        "colab_type": "code",
        "colab": {},
        "outputId": "088739c2-250b-49ab-a83d-86e157bd97f6"
      },
      "cell_type": "code",
      "source": [
        "import pandas as pd\n",
        "import numpy as np \n",
        "import os\n",
        "from random import shuffle\n",
        "from tqdm import tqdm\n",
        "import scipy\n",
        "import skimage\n",
        "from skimage.transform import resize\n",
        "import cv2"
      ],
      "execution_count": 0,
      "outputs": [
        {
          "output_type": "stream",
          "text": [
            "/anaconda3/lib/python3.6/importlib/_bootstrap.py:219: RuntimeWarning: numpy.dtype size changed, may indicate binary incompatibility. Expected 96, got 88\n",
            "  return f(*args, **kwds)\n",
            "/anaconda3/lib/python3.6/importlib/_bootstrap.py:219: RuntimeWarning: numpy.dtype size changed, may indicate binary incompatibility. Expected 96, got 88\n",
            "  return f(*args, **kwds)\n",
            "/anaconda3/lib/python3.6/importlib/_bootstrap.py:219: RuntimeWarning: numpy.dtype size changed, may indicate binary incompatibility. Expected 96, got 88\n",
            "  return f(*args, **kwds)\n",
            "/anaconda3/lib/python3.6/importlib/_bootstrap.py:219: RuntimeWarning: numpy.dtype size changed, may indicate binary incompatibility\n",
            "  return f(*args, **kwds)\n"
          ],
          "name": "stderr"
        }
      ]
    },
    {
      "metadata": {
        "id": "GOfDCejxgVSC",
        "colab_type": "code",
        "colab": {},
        "outputId": "eb0e7c51-488c-410f-8018-2e5be71b0c7f"
      },
      "cell_type": "code",
      "source": [
        "print(os.listdir(\"/Users/kasspk/Documents/AUAISummer2018/chest_xray/\"))"
      ],
      "execution_count": 0,
      "outputs": [
        {
          "output_type": "stream",
          "text": [
            "['.DS_Store', 'test', 'train', 'val']\n"
          ],
          "name": "stdout"
        }
      ]
    },
    {
      "metadata": {
        "id": "hGX_UhEJgVSS",
        "colab_type": "code",
        "colab": {}
      },
      "cell_type": "code",
      "source": [
        "data = \"/Users/kasspk/Documents/AUAISummer2018/chest_xray/\"\n",
        "train_data = \"/Users/kasspk/Documents/AUAISummer2018/chest_xray/train/\"\n",
        "test_data = \"/Users/kasspk/Documents/AUAISummer2018/chest_xray/test/\"\n",
        "val_data = \"/Users/kasspk/Documents/AUAISummer2018/chest_xray/val/\""
      ],
      "execution_count": 0,
      "outputs": []
    },
    {
      "metadata": {
        "id": "tZ_2Im22gVSe",
        "colab_type": "code",
        "colab": {},
        "outputId": "08d9bd13-fdff-48cf-e129-f53d8e381c4a"
      },
      "cell_type": "code",
      "source": [
        "print(os.listdir(test_data))"
      ],
      "execution_count": 0,
      "outputs": [
        {
          "output_type": "stream",
          "text": [
            "['.DS_Store', 'PNEUMONIA', 'NORMAL']\n"
          ],
          "name": "stdout"
        }
      ]
    },
    {
      "metadata": {
        "id": "iyXGopLRgVSo",
        "colab_type": "code",
        "colab": {}
      },
      "cell_type": "code",
      "source": [
        "def get_data(Dir):\n",
        "    X = []\n",
        "    y = []\n",
        "    \n",
        "    for next_dir in os.listdir(Dir):\n",
        "        if not next_dir.startswith(\".\"):\n",
        "            if next_dir in ['NORMAL']:\n",
        "                label = 0\n",
        "            elif next_dir in ['PNEUMONIA']:\n",
        "                label = 1\n",
        "            else:\n",
        "                label = 2\n",
        "        \n",
        "            temp = Dir + next_dir\n",
        "        \n",
        "            for file in tqdm(os.listdir(temp)):\n",
        "                img = cv2.imread(temp+'/'+file)\n",
        "                if img is not None:\n",
        "                    img = skimage.transform.resize(img,(100,100,3))\n",
        "                    img = np.asarray(img)\n",
        "                    X.append(img)\n",
        "                    y.append(label)\n",
        "        \n",
        "    return X,y"
      ],
      "execution_count": 0,
      "outputs": []
    },
    {
      "metadata": {
        "id": "E2J-HA9mgVSy",
        "colab_type": "code",
        "colab": {},
        "outputId": "b9b72265-ec6c-44de-b108-a3fb884e4c5f"
      },
      "cell_type": "code",
      "source": [
        "X_train, y_train = get_data(train_data)"
      ],
      "execution_count": 0,
      "outputs": [
        {
          "output_type": "stream",
          "text": [
            "  0%|          | 0/3876 [00:00<?, ?it/s]/anaconda3/lib/python3.6/site-packages/skimage/transform/_warps.py:84: UserWarning: The default mode, 'constant', will be changed to 'reflect' in skimage 0.15.\n",
            "  warn(\"The default mode, 'constant', will be changed to 'reflect' in \"\n",
            "100%|██████████| 3876/3876 [02:36<00:00, 24.70it/s]\n",
            "100%|██████████| 1342/1342 [02:13<00:00, 10.08it/s]\n"
          ],
          "name": "stderr"
        }
      ]
    },
    {
      "metadata": {
        "id": "jWW5LNscgVS9",
        "colab_type": "code",
        "colab": {},
        "outputId": "1e84bb66-ed30-43ff-e7a7-673da20787d9"
      },
      "cell_type": "code",
      "source": [
        "X_test, y_test = get_data(test_data)"
      ],
      "execution_count": 0,
      "outputs": [
        {
          "output_type": "stream",
          "text": [
            "  0%|          | 0/390 [00:00<?, ?it/s]/anaconda3/lib/python3.6/site-packages/skimage/transform/_warps.py:84: UserWarning: The default mode, 'constant', will be changed to 'reflect' in skimage 0.15.\n",
            "  warn(\"The default mode, 'constant', will be changed to 'reflect' in \"\n",
            "100%|██████████| 390/390 [00:12<00:00, 30.67it/s]\n",
            "100%|██████████| 234/234 [00:24<00:00,  9.74it/s]\n"
          ],
          "name": "stderr"
        }
      ]
    },
    {
      "metadata": {
        "id": "TzqM0jG6gVTG",
        "colab_type": "code",
        "colab": {}
      },
      "cell_type": "code",
      "source": [
        "X_train = np.asarray(X_train)"
      ],
      "execution_count": 0,
      "outputs": []
    },
    {
      "metadata": {
        "id": "_eI2A0hHgVTW",
        "colab_type": "code",
        "colab": {},
        "outputId": "90aad58e-3bd4-4fa6-a5d0-5434acf4a50c"
      },
      "cell_type": "code",
      "source": [
        "print(X_train.shape)"
      ],
      "execution_count": 0,
      "outputs": [
        {
          "output_type": "stream",
          "text": [
            "(5216, 100, 100, 3)\n"
          ],
          "name": "stdout"
        }
      ]
    },
    {
      "metadata": {
        "id": "pqMMk2utgVTk",
        "colab_type": "code",
        "colab": {}
      },
      "cell_type": "code",
      "source": [
        "X_train = np.asarray(X_train)\n",
        "y_train = np.asarray(y_train)\n",
        "X_test = np.asarray(X_test)\n",
        "y_test = np.asarray(y_test)"
      ],
      "execution_count": 0,
      "outputs": []
    },
    {
      "metadata": {
        "id": "axVlf9y5gVTt",
        "colab_type": "code",
        "colab": {},
        "outputId": "a7a4d68c-f193-4555-dcb2-e7b93ff09532"
      },
      "cell_type": "code",
      "source": [
        "print(X_train.shape,y_train.shape,X_test.shape,y_test.shape)"
      ],
      "execution_count": 0,
      "outputs": [
        {
          "output_type": "stream",
          "text": [
            "(5216, 100, 100, 3) (5216,) (624, 100, 100, 3) (624,)\n"
          ],
          "name": "stdout"
        }
      ]
    },
    {
      "metadata": {
        "id": "f93j2ET9gVT9",
        "colab_type": "code",
        "colab": {},
        "outputId": "9957f21e-697f-41fd-e6da-628b42046a06"
      },
      "cell_type": "code",
      "source": [
        "print(y_train[5000])"
      ],
      "execution_count": 0,
      "outputs": [
        {
          "output_type": "stream",
          "text": [
            "0\n"
          ],
          "name": "stdout"
        }
      ]
    },
    {
      "metadata": {
        "id": "_Hjv3Dm_gVUE",
        "colab_type": "code",
        "colab": {},
        "outputId": "aba9d0ea-eeef-4412-8613-8b8883a3b255"
      },
      "cell_type": "code",
      "source": [
        "from keras.utils.np_utils import to_categorical\n",
        "y_train = to_categorical(y_train, num_classes=2)\n",
        "y_test = to_categorical(y_test, num_classes=2)"
      ],
      "execution_count": 0,
      "outputs": [
        {
          "output_type": "stream",
          "text": [
            "/anaconda3/lib/python3.6/importlib/_bootstrap.py:219: RuntimeWarning: numpy.dtype size changed, may indicate binary incompatibility. Expected 96, got 88\n",
            "  return f(*args, **kwds)\n",
            "/anaconda3/lib/python3.6/site-packages/h5py/__init__.py:36: FutureWarning: Conversion of the second argument of issubdtype from `float` to `np.floating` is deprecated. In future, it will be treated as `np.float64 == np.dtype(float).type`.\n",
            "  from ._conv import register_converters as _register_converters\n",
            "Using TensorFlow backend.\n"
          ],
          "name": "stderr"
        }
      ]
    },
    {
      "metadata": {
        "id": "ThhO8t1igVUS",
        "colab_type": "code",
        "colab": {},
        "outputId": "f2f281fe-8784-4f2b-dae0-a2034edd82d3"
      },
      "cell_type": "code",
      "source": [
        "print(y_train[5000])"
      ],
      "execution_count": 0,
      "outputs": [
        {
          "output_type": "stream",
          "text": [
            "[1. 0.]\n"
          ],
          "name": "stdout"
        }
      ]
    },
    {
      "metadata": {
        "id": "ossnWuhcgVU8",
        "colab_type": "code",
        "colab": {},
        "outputId": "e8cdff94-6b7b-401c-ea53-95e124f79276"
      },
      "cell_type": "code",
      "source": [
        "print(y_train[0])"
      ],
      "execution_count": 0,
      "outputs": [
        {
          "output_type": "stream",
          "text": [
            "[0. 1.]\n"
          ],
          "name": "stdout"
        }
      ]
    },
    {
      "metadata": {
        "id": "g-8KSTocgVVP",
        "colab_type": "code",
        "colab": {}
      },
      "cell_type": "code",
      "source": [
        "from tempfile import TemporaryFile\n",
        "outfile = TemporaryFile()\n",
        "np.savez(outfile, X_train, y_train, X_test, y_test)"
      ],
      "execution_count": 0,
      "outputs": []
    },
    {
      "metadata": {
        "id": "KarDG_XYgVVm",
        "colab_type": "code",
        "colab": {},
        "outputId": "5ae84190-c13f-46dd-d2a2-c22cdda7418d"
      },
      "cell_type": "code",
      "source": [
        "outfile.seek(0)\n",
        "npzfile = np.load(outfile)\n",
        "npzfile.files\n",
        "npzfile['arr_0']"
      ],
      "execution_count": 0,
      "outputs": [
        {
          "output_type": "execute_result",
          "data": {
            "text/plain": [
              "array([[[[0.81022275, 0.81022275, 0.81022275],\n",
              "         [0.7984298 , 0.7984298 , 0.7984298 ],\n",
              "         [0.80439216, 0.80439216, 0.80439216],\n",
              "         ...,\n",
              "         [0.73657255, 0.73657255, 0.73657255],\n",
              "         [0.77285804, 0.77285804, 0.77285804],\n",
              "         [0.81396078, 0.81396078, 0.81396078]],\n",
              "\n",
              "        [[0.80211765, 0.80211765, 0.80211765],\n",
              "         [0.79237804, 0.79237804, 0.79237804],\n",
              "         [0.79544314, 0.79544314, 0.79544314],\n",
              "         ...,\n",
              "         [0.76409412, 0.76409412, 0.76409412],\n",
              "         [0.80291137, 0.80291137, 0.80291137],\n",
              "         [0.83419608, 0.83419608, 0.83419608]],\n",
              "\n",
              "        [[0.80342745, 0.80342745, 0.80342745],\n",
              "         [0.79404706, 0.79404706, 0.79404706],\n",
              "         [0.78823529, 0.78823529, 0.78823529],\n",
              "         ...,\n",
              "         [0.78560784, 0.78560784, 0.78560784],\n",
              "         [0.80534902, 0.80534902, 0.80534902],\n",
              "         [0.81861176, 0.81861176, 0.81861176]],\n",
              "\n",
              "        ...,\n",
              "\n",
              "        [[0.03875294, 0.03875294, 0.03875294],\n",
              "         [0.03921569, 0.03921569, 0.03921569],\n",
              "         [0.        , 0.        , 0.        ],\n",
              "         ...,\n",
              "         [0.19215686, 0.19215686, 0.19215686],\n",
              "         [0.19883137, 0.19883137, 0.19883137],\n",
              "         [0.21122353, 0.21122353, 0.21122353]],\n",
              "\n",
              "        [[0.05827451, 0.05827451, 0.05827451],\n",
              "         [0.04141176, 0.04141176, 0.04141176],\n",
              "         [0.00729412, 0.00729412, 0.00729412],\n",
              "         ...,\n",
              "         [0.17584314, 0.17584314, 0.17584314],\n",
              "         [0.18769098, 0.18769098, 0.18769098],\n",
              "         [0.19662902, 0.19662902, 0.19662902]],\n",
              "\n",
              "        [[0.05098039, 0.05098039, 0.05098039],\n",
              "         [0.04227451, 0.04227451, 0.04227451],\n",
              "         [0.01372549, 0.01372549, 0.01372549],\n",
              "         ...,\n",
              "         [0.1614902 , 0.1614902 , 0.1614902 ],\n",
              "         [0.17952941, 0.17952941, 0.17952941],\n",
              "         [0.18823529, 0.18823529, 0.18823529]]],\n",
              "\n",
              "\n",
              "       [[[0.00306353, 0.00306353, 0.00306353],\n",
              "         [0.07632784, 0.07632784, 0.07632784],\n",
              "         [0.11029804, 0.11029804, 0.11029804],\n",
              "         ...,\n",
              "         [0.21563137, 0.21563137, 0.21563137],\n",
              "         [0.22516235, 0.22516235, 0.22516235],\n",
              "         [0.19443137, 0.19443137, 0.19443137]],\n",
              "\n",
              "        [[0.02909804, 0.02909804, 0.02909804],\n",
              "         [0.08623843, 0.08623843, 0.08623843],\n",
              "         [0.14509804, 0.14509804, 0.14509804],\n",
              "         ...,\n",
              "         [0.2301098 , 0.2301098 , 0.2301098 ],\n",
              "         [0.22191843, 0.22191843, 0.22191843],\n",
              "         [0.20164706, 0.20164706, 0.20164706]],\n",
              "\n",
              "        [[0.04321569, 0.04321569, 0.04321569],\n",
              "         [0.09961569, 0.09961569, 0.09961569],\n",
              "         [0.15243137, 0.15243137, 0.15243137],\n",
              "         ...,\n",
              "         [0.27435294, 0.27435294, 0.27435294],\n",
              "         [0.22486275, 0.22486275, 0.22486275],\n",
              "         [0.22078431, 0.22078431, 0.22078431]],\n",
              "\n",
              "        ...,\n",
              "\n",
              "        [[0.0196    , 0.0196    , 0.0196    ],\n",
              "         [0.15105882, 0.15105882, 0.15105882],\n",
              "         [0.22705882, 0.22705882, 0.22705882],\n",
              "         ...,\n",
              "         [0.        , 0.        , 0.        ],\n",
              "         [0.        , 0.        , 0.        ],\n",
              "         [0.0196    , 0.0196    , 0.0196    ]],\n",
              "\n",
              "        [[0.        , 0.        , 0.        ],\n",
              "         [0.15102275, 0.15102275, 0.15102275],\n",
              "         [0.24464314, 0.24464314, 0.24464314],\n",
              "         ...,\n",
              "         [0.        , 0.        , 0.        ],\n",
              "         [0.        , 0.        , 0.        ],\n",
              "         [0.        , 0.        , 0.        ]],\n",
              "\n",
              "        [[0.        , 0.        , 0.        ],\n",
              "         [0.12109804, 0.12109804, 0.12109804],\n",
              "         [0.23315294, 0.23315294, 0.23315294],\n",
              "         ...,\n",
              "         [0.        , 0.        , 0.        ],\n",
              "         [0.        , 0.        , 0.        ],\n",
              "         [0.        , 0.        , 0.        ]]],\n",
              "\n",
              "\n",
              "       [[[0.17647059, 0.17647059, 0.17647059],\n",
              "         [0.17254902, 0.17254902, 0.17254902],\n",
              "         [0.16862745, 0.16862745, 0.16862745],\n",
              "         ...,\n",
              "         [0.11898039, 0.11898039, 0.11898039],\n",
              "         [0.10588235, 0.10588235, 0.10588235],\n",
              "         [0.10564706, 0.10564706, 0.10564706]],\n",
              "\n",
              "        [[0.17254902, 0.17254902, 0.17254902],\n",
              "         [0.17254902, 0.17254902, 0.17254902],\n",
              "         [0.164     , 0.164     , 0.164     ],\n",
              "         ...,\n",
              "         [0.10421176, 0.10421176, 0.10421176],\n",
              "         [0.10909804, 0.10909804, 0.10909804],\n",
              "         [0.09411765, 0.09411765, 0.09411765]],\n",
              "\n",
              "        [[0.16862745, 0.16862745, 0.16862745],\n",
              "         [0.16321569, 0.16321569, 0.16321569],\n",
              "         [0.16078431, 0.16078431, 0.16078431],\n",
              "         ...,\n",
              "         [0.10113725, 0.10113725, 0.10113725],\n",
              "         [0.09952941, 0.09952941, 0.09952941],\n",
              "         [0.09317647, 0.09317647, 0.09317647]],\n",
              "\n",
              "        ...,\n",
              "\n",
              "        [[0.18219608, 0.18219608, 0.18219608],\n",
              "         [0.17647059, 0.17647059, 0.17647059],\n",
              "         [0.16078431, 0.16078431, 0.16078431],\n",
              "         ...,\n",
              "         [0.19098039, 0.19098039, 0.19098039],\n",
              "         [0.20541176, 0.20541176, 0.20541176],\n",
              "         [0.22839216, 0.22839216, 0.22839216]],\n",
              "\n",
              "        [[0.18431373, 0.18431373, 0.18431373],\n",
              "         [0.17254902, 0.17254902, 0.17254902],\n",
              "         [0.15272157, 0.15272157, 0.15272157],\n",
              "         ...,\n",
              "         [0.18656471, 0.18656471, 0.18656471],\n",
              "         [0.19651608, 0.19651608, 0.19651608],\n",
              "         [0.22243137, 0.22243137, 0.22243137]],\n",
              "\n",
              "        [[0.18039216, 0.18039216, 0.18039216],\n",
              "         [0.16862745, 0.16862745, 0.16862745],\n",
              "         [0.13676863, 0.13676863, 0.13676863],\n",
              "         ...,\n",
              "         [0.18823529, 0.18823529, 0.18823529],\n",
              "         [0.2       , 0.2       , 0.2       ],\n",
              "         [0.2197349 , 0.2197349 , 0.2197349 ]]],\n",
              "\n",
              "\n",
              "       ...,\n",
              "\n",
              "\n",
              "       [[[0.24705882, 0.24705882, 0.24705882],\n",
              "         [0.29145608, 0.29145608, 0.29145608],\n",
              "         [0.31025392, 0.31025392, 0.31025392],\n",
              "         ...,\n",
              "         [0.20747059, 0.20747059, 0.20747059],\n",
              "         [0.19133333, 0.19133333, 0.19133333],\n",
              "         [0.12904333, 0.12904333, 0.12904333]],\n",
              "\n",
              "        [[0.23904431, 0.23904431, 0.23904431],\n",
              "         [0.27325275, 0.27325275, 0.27325275],\n",
              "         [0.29156569, 0.29156569, 0.29156569],\n",
              "         ...,\n",
              "         [0.21203627, 0.21203627, 0.21203627],\n",
              "         [0.18706314, 0.18706314, 0.18706314],\n",
              "         [0.11260784, 0.11260784, 0.11260784]],\n",
              "\n",
              "        [[0.22055098, 0.22055098, 0.22055098],\n",
              "         [0.2641598 , 0.2641598 , 0.2641598 ],\n",
              "         [0.28341667, 0.28341667, 0.28341667],\n",
              "         ...,\n",
              "         [0.19275   , 0.19275   , 0.19275   ],\n",
              "         [0.15858627, 0.15858627, 0.15858627],\n",
              "         [0.09323431, 0.09323431, 0.09323431]],\n",
              "\n",
              "        ...,\n",
              "\n",
              "        [[0.        , 0.        , 0.        ],\n",
              "         [0.        , 0.        , 0.        ],\n",
              "         [0.        , 0.        , 0.        ],\n",
              "         ...,\n",
              "         [0.        , 0.        , 0.        ],\n",
              "         [0.        , 0.        , 0.        ],\n",
              "         [0.        , 0.        , 0.        ]],\n",
              "\n",
              "        [[0.        , 0.        , 0.        ],\n",
              "         [0.        , 0.        , 0.        ],\n",
              "         [0.        , 0.        , 0.        ],\n",
              "         ...,\n",
              "         [0.        , 0.        , 0.        ],\n",
              "         [0.        , 0.        , 0.        ],\n",
              "         [0.        , 0.        , 0.        ]],\n",
              "\n",
              "        [[0.        , 0.        , 0.        ],\n",
              "         [0.        , 0.        , 0.        ],\n",
              "         [0.        , 0.        , 0.        ],\n",
              "         ...,\n",
              "         [0.        , 0.        , 0.        ],\n",
              "         [0.        , 0.        , 0.        ],\n",
              "         [0.        , 0.        , 0.        ]]],\n",
              "\n",
              "\n",
              "       [[[0.        , 0.        , 0.        ],\n",
              "         [0.        , 0.        , 0.        ],\n",
              "         [0.        , 0.        , 0.        ],\n",
              "         ...,\n",
              "         [0.14509804, 0.14509804, 0.14509804],\n",
              "         [0.10607843, 0.10607843, 0.10607843],\n",
              "         [0.02882353, 0.02882353, 0.02882353]],\n",
              "\n",
              "        [[0.        , 0.        , 0.        ],\n",
              "         [0.        , 0.        , 0.        ],\n",
              "         [0.        , 0.        , 0.        ],\n",
              "         ...,\n",
              "         [0.14039216, 0.14039216, 0.14039216],\n",
              "         [0.0945098 , 0.0945098 , 0.0945098 ],\n",
              "         [0.0145098 , 0.0145098 , 0.0145098 ]],\n",
              "\n",
              "        [[0.        , 0.        , 0.        ],\n",
              "         [0.        , 0.        , 0.        ],\n",
              "         [0.        , 0.        , 0.        ],\n",
              "         ...,\n",
              "         [0.1254902 , 0.1254902 , 0.1254902 ],\n",
              "         [0.08333333, 0.08333333, 0.08333333],\n",
              "         [0.00686275, 0.00686275, 0.00686275]],\n",
              "\n",
              "        ...,\n",
              "\n",
              "        [[0.        , 0.        , 0.        ],\n",
              "         [0.        , 0.        , 0.        ],\n",
              "         [0.        , 0.        , 0.        ],\n",
              "         ...,\n",
              "         [0.        , 0.        , 0.        ],\n",
              "         [0.        , 0.        , 0.        ],\n",
              "         [0.        , 0.        , 0.        ]],\n",
              "\n",
              "        [[0.        , 0.        , 0.        ],\n",
              "         [0.        , 0.        , 0.        ],\n",
              "         [0.        , 0.        , 0.        ],\n",
              "         ...,\n",
              "         [0.        , 0.        , 0.        ],\n",
              "         [0.        , 0.        , 0.        ],\n",
              "         [0.        , 0.        , 0.        ]],\n",
              "\n",
              "        [[0.        , 0.        , 0.        ],\n",
              "         [0.        , 0.        , 0.        ],\n",
              "         [0.        , 0.        , 0.        ],\n",
              "         ...,\n",
              "         [0.        , 0.        , 0.        ],\n",
              "         [0.        , 0.        , 0.        ],\n",
              "         [0.        , 0.        , 0.        ]]],\n",
              "\n",
              "\n",
              "       [[[0.53870588, 0.53870588, 0.53870588],\n",
              "         [0.24641059, 0.24641059, 0.24641059],\n",
              "         [0.2144902 , 0.2144902 , 0.2144902 ],\n",
              "         ...,\n",
              "         [0.16819412, 0.16819412, 0.16819412],\n",
              "         [0.1232549 , 0.1232549 , 0.1232549 ],\n",
              "         [0.06386314, 0.06386314, 0.06386314]],\n",
              "\n",
              "        [[0.51586157, 0.51586157, 0.51586157],\n",
              "         [0.23147863, 0.23147863, 0.23147863],\n",
              "         [0.21445784, 0.21445784, 0.21445784],\n",
              "         ...,\n",
              "         [0.15267353, 0.15267353, 0.15267353],\n",
              "         [0.11303118, 0.11303118, 0.11303118],\n",
              "         [0.03459745, 0.03459745, 0.03459745]],\n",
              "\n",
              "        [[0.50937941, 0.50937941, 0.50937941],\n",
              "         [0.21724902, 0.21724902, 0.21724902],\n",
              "         [0.18638235, 0.18638235, 0.18638235],\n",
              "         ...,\n",
              "         [0.15195098, 0.15195098, 0.15195098],\n",
              "         [0.10145784, 0.10145784, 0.10145784],\n",
              "         [0.03366667, 0.03366667, 0.03366667]],\n",
              "\n",
              "        ...,\n",
              "\n",
              "        [[0.54423039, 0.54423039, 0.54423039],\n",
              "         [0.12620882, 0.12620882, 0.12620882],\n",
              "         [0.        , 0.        , 0.        ],\n",
              "         ...,\n",
              "         [0.        , 0.        , 0.        ],\n",
              "         [0.        , 0.        , 0.        ],\n",
              "         [0.        , 0.        , 0.        ]],\n",
              "\n",
              "        [[0.53384431, 0.53384431, 0.53384431],\n",
              "         [0.12482706, 0.12482706, 0.12482706],\n",
              "         [0.        , 0.        , 0.        ],\n",
              "         ...,\n",
              "         [0.        , 0.        , 0.        ],\n",
              "         [0.        , 0.        , 0.        ],\n",
              "         [0.        , 0.        , 0.        ]],\n",
              "\n",
              "        [[0.5324702 , 0.5324702 , 0.5324702 ],\n",
              "         [0.12266667, 0.12266667, 0.12266667],\n",
              "         [0.        , 0.        , 0.        ],\n",
              "         ...,\n",
              "         [0.        , 0.        , 0.        ],\n",
              "         [0.        , 0.        , 0.        ],\n",
              "         [0.        , 0.        , 0.        ]]]])"
            ]
          },
          "metadata": {
            "tags": []
          },
          "execution_count": 17
        }
      ]
    },
    {
      "metadata": {
        "id": "huFrInqEgVV1",
        "colab_type": "code",
        "colab": {},
        "outputId": "7a54e7b9-8502-42c8-eed6-59b7d7e66a21"
      },
      "cell_type": "code",
      "source": [
        "Pimages = os.listdir(train_data+'PNEUMONIA')\n",
        "Nimages = os.listdir(train_data+'NORMAL')\n",
        "Pimages[1]"
      ],
      "execution_count": 0,
      "outputs": [
        {
          "output_type": "execute_result",
          "data": {
            "text/plain": [
              "'person1438_bacteria_3721.jpeg'"
            ]
          },
          "metadata": {
            "tags": []
          },
          "execution_count": 18
        }
      ]
    },
    {
      "metadata": {
        "id": "18JPDyAjgVWH",
        "colab_type": "code",
        "colab": {},
        "outputId": "83e261a7-7138-42aa-aa32-423d94a99de8"
      },
      "cell_type": "code",
      "source": [
        "from matplotlib import pyplot as plt\n",
        "\n",
        "img = cv2.imread(train_data+'NORMAL/'+ Nimages[1],0)\n",
        "plt.imshow(img, cmap = 'gray', interpolation = 'bicubic')\n",
        "\n",
        "plt.xticks([]), plt.yticks([])  # to hide tick values on X and Y axis\n",
        "plt.show()"
      ],
      "execution_count": 0,
      "outputs": [
        {
          "output_type": "display_data",
          "data": {
            "text/plain": [
              "<Figure size 640x480 with 1 Axes>"
            ]
          },
          "metadata": {
            "tags": []
          }
        }
      ]
    },
    {
      "metadata": {
        "id": "MlJXhJcpgVWV",
        "colab_type": "code",
        "colab": {},
        "outputId": "a1deef7d-2937-49ec-9122-1d56019fc6ae"
      },
      "cell_type": "code",
      "source": [
        "img = cv2.imread(train_data+'PNEUMONIA/'+ Pimages[1],0)\n",
        "plt.imshow(img, cmap = 'gray', interpolation = 'bicubic')\n",
        "\n",
        "plt.xticks([]), plt.yticks([])  # to hide tick values on X and Y axis\n",
        "plt.show()"
      ],
      "execution_count": 0,
      "outputs": [
        {
          "output_type": "display_data",
          "data": {
            "image/png": "[encoded data removed]",
            "text/plain": [
              "<Figure size 432x288 with 1 Axes>"
            ]
          },
          "metadata": {
            "tags": []
          }
        }
      ]
    },
    {
      "metadata": {
        "id": "sKudEgTUgVWh",
        "colab_type": "code",
        "colab": {}
      },
      "cell_type": "code",
      "source": [
        "X_train1 = npzfile['arr_0']"
      ],
      "execution_count": 0,
      "outputs": []
    },
    {
      "metadata": {
        "id": "zBi2uTwMgVWt",
        "colab_type": "code",
        "colab": {}
      },
      "cell_type": "code",
      "source": [
        "import tensorflow as tf\n",
        "from keras.callbacks import ReduceLROnPlateau , ModelCheckpoint\n",
        "\n",
        "filepath=\"weights.hdf5\"\n",
        "checkpoint = ModelCheckpoint(filepath, monitor='val_acc', verbose=1, save_best_only=True, mode='max')\n",
        "\n",
        "\n",
        "model.compile(loss=tf.keras.losses.categorical_crossentropy,\n",
        "              optimizer=RMSprop(lr=0.001),\n",
        "              metrics=['accuracy'])"
      ],
      "execution_count": 0,
      "outputs": []
    },
    {
      "metadata": {
        "id": "HI5sJB3wgVWw",
        "colab_type": "code",
        "colab": {},
        "outputId": "bc26c6ff-8135-4a65-f041-e8ce8bc84446"
      },
      "cell_type": "code",
      "source": [
        "from keras.models import Sequential\n",
        "from keras.layers import Dense , Activation\n",
        "from keras.layers import Dropout\n",
        "from keras.layers import Flatten\n",
        "from keras.optimizers import SGD , RMSprop\n",
        "from keras.layers import Conv2D , BatchNormalization\n",
        "from keras.layers import MaxPooling2D\n",
        "from keras.utils import np_utils\n",
        "from keras import backend as K\n",
        "K.set_image_dim_ordering('tf')\n",
        "\n",
        "model = Sequential()\n",
        "model.add(Conv2D(16, (3, 3), activation='relu', padding=\"same\", input_shape=(100,100,3)))\n",
        "model.add(Conv2D(16, (3, 3), padding=\"same\", activation='relu'))\n",
        "model.add(MaxPooling2D(pool_size=(2, 2)))\n",
        "\n",
        "model.add(Conv2D(32, (3, 3), activation='relu', padding=\"same\", input_shape=(100,100,3)))\n",
        "model.add(Conv2D(32, (3, 3), padding=\"same\", activation='relu'))\n",
        "model.add(MaxPooling2D(pool_size=(2, 2)))\n",
        "\n",
        "model.add(Conv2D(64, (3, 3), activation='relu', padding=\"same\"))\n",
        "model.add(Conv2D(64, (3, 3), padding=\"same\", activation='relu'))\n",
        "model.add(MaxPooling2D(pool_size=(2, 2)))\n",
        "\n",
        "model.add(Conv2D(96, (3, 3), dilation_rate=(2, 2), activation='relu', padding=\"same\"))\n",
        "model.add(Conv2D(96, (3, 3), padding=\"valid\", activation='relu'))\n",
        "model.add(MaxPooling2D(pool_size=(2, 2)))\n",
        "\n",
        "model.add(Conv2D(128, (3, 3), dilation_rate=(2, 2), activation='relu', padding=\"same\"))\n",
        "model.add(Conv2D(128, (3, 3), padding=\"valid\", activation='relu'))\n",
        "model.add(MaxPooling2D(pool_size=(2, 2)))\n",
        "\n",
        "model.add(Flatten())\n",
        "\n",
        "model.add(Dense(64, activation='relu'))\n",
        "model.add(Dropout(0.4))\n",
        "model.add(Dense(2 , activation='sigmoid'))\n",
        "\n",
        "model.compile(loss='binary_crossentropy',\n",
        "                  optimizer=RMSprop(lr=0.00005),\n",
        "                  metrics=['accuracy'])\n",
        "\n",
        "print(model.summary())"
      ],
      "execution_count": 0,
      "outputs": [
        {
          "output_type": "stream",
          "text": [
            "_________________________________________________________________\n",
            "Layer (type)                 Output Shape              Param #   \n",
            "=================================================================\n",
            "conv2d_17 (Conv2D)           (None, 100, 100, 16)      448       \n",
            "_________________________________________________________________\n",
            "conv2d_18 (Conv2D)           (None, 100, 100, 16)      2320      \n",
            "_________________________________________________________________\n",
            "max_pooling2d_9 (MaxPooling2 (None, 50, 50, 16)        0         \n",
            "_________________________________________________________________\n",
            "conv2d_19 (Conv2D)           (None, 50, 50, 32)        4640      \n",
            "_________________________________________________________________\n",
            "conv2d_20 (Conv2D)           (None, 50, 50, 32)        9248      \n",
            "_________________________________________________________________\n",
            "max_pooling2d_10 (MaxPooling (None, 25, 25, 32)        0         \n",
            "_________________________________________________________________\n",
            "conv2d_21 (Conv2D)           (None, 25, 25, 64)        18496     \n",
            "_________________________________________________________________\n",
            "conv2d_22 (Conv2D)           (None, 25, 25, 64)        36928     \n",
            "_________________________________________________________________\n",
            "max_pooling2d_11 (MaxPooling (None, 12, 12, 64)        0         \n",
            "_________________________________________________________________\n",
            "conv2d_23 (Conv2D)           (None, 12, 12, 96)        55392     \n",
            "_________________________________________________________________\n",
            "conv2d_24 (Conv2D)           (None, 10, 10, 96)        83040     \n",
            "_________________________________________________________________\n",
            "max_pooling2d_12 (MaxPooling (None, 5, 5, 96)          0         \n",
            "_________________________________________________________________\n",
            "conv2d_25 (Conv2D)           (None, 5, 5, 128)         110720    \n",
            "_________________________________________________________________\n",
            "conv2d_26 (Conv2D)           (None, 3, 3, 128)         147584    \n",
            "_________________________________________________________________\n",
            "max_pooling2d_13 (MaxPooling (None, 1, 1, 128)         0         \n",
            "_________________________________________________________________\n",
            "flatten_3 (Flatten)          (None, 128)               0         \n",
            "_________________________________________________________________\n",
            "dense_5 (Dense)              (None, 64)                8256      \n",
            "_________________________________________________________________\n",
            "dropout_6 (Dropout)          (None, 64)                0         \n",
            "_________________________________________________________________\n",
            "dense_6 (Dense)              (None, 2)                 130       \n",
            "=================================================================\n",
            "Total params: 477,202\n",
            "Trainable params: 477,202\n",
            "Non-trainable params: 0\n",
            "_________________________________________________________________\n",
            "None\n"
          ],
          "name": "stdout"
        }
      ]
    },
    {
      "metadata": {
        "id": "0np9h9jJgVW-",
        "colab_type": "code",
        "colab": {},
        "outputId": "65a30c28-8eaf-4f5d-9967-3e2e380c480b"
      },
      "cell_type": "code",
      "source": [
        "history = model.fit(X_train, y_train, validation_data = (X_test , y_test) ,callbacks=[checkpoint] ,\n",
        "          epochs=5,verbose=2)"
      ],
      "execution_count": 0,
      "outputs": [
        {
          "output_type": "stream",
          "text": [
            "Train on 5216 samples, validate on 624 samples\n",
            "Epoch 1/5\n",
            " - 104s - loss: 0.5856 - acc: 0.7414 - val_loss: 0.6652 - val_acc: 0.6250\n",
            "\n",
            "Epoch 00001: val_acc improved from -inf to 0.62500, saving model to weights.hdf5\n",
            "Epoch 2/5\n",
            " - 102s - loss: 0.4827 - acc: 0.7633 - val_loss: 0.6839 - val_acc: 0.6362\n",
            "\n",
            "Epoch 00002: val_acc improved from 0.62500 to 0.63622, saving model to weights.hdf5\n",
            "Epoch 3/5\n",
            " - 101s - loss: 0.3531 - acc: 0.8484 - val_loss: 0.3940 - val_acc: 0.8325\n",
            "\n",
            "Epoch 00003: val_acc improved from 0.63622 to 0.83253, saving model to weights.hdf5\n",
            "Epoch 4/5\n",
            " - 101s - loss: 0.3032 - acc: 0.8698 - val_loss: 0.3398 - val_acc: 0.8622\n",
            "\n",
            "Epoch 00004: val_acc improved from 0.83253 to 0.86218, saving model to weights.hdf5\n",
            "Epoch 5/5\n",
            " - 102s - loss: 0.2688 - acc: 0.8919 - val_loss: 0.4305 - val_acc: 0.8237\n",
            "\n",
            "Epoch 00005: val_acc did not improve from 0.86218\n"
          ],
          "name": "stdout"
        }
      ]
    },
    {
      "metadata": {
        "id": "dXT6Av2hgVXO",
        "colab_type": "code",
        "colab": {},
        "outputId": "27d34ab1-42b6-4752-efa0-1069151e06a6"
      },
      "cell_type": "code",
      "source": [
        "import matplotlib.pyplot as plt\n",
        "\n",
        "plt.plot(history.history['acc'])\n",
        "plt.plot(history.history['val_acc'])\n",
        "plt.title('model accuracy')\n",
        "plt.ylabel('accuracy')\n",
        "plt.xlabel('epoch')\n",
        "plt.legend(['train', 'test'], loc='upper left')\n",
        "plt.show()\n",
        "# summarize history for loss\n",
        "plt.plot(history.history['loss'])\n",
        "plt.plot(history.history['val_loss'])\n",
        "plt.title('model loss')\n",
        "plt.ylabel('loss')\n",
        "plt.xlabel('epoch')\n",
        "plt.legend(['train', 'test'], loc='upper left')\n",
        "plt.show()"
      ],
      "execution_count": 0,
      "outputs": [
        {
          "output_type": "display_data",
          "data": {
            "image/png": "[encoded data removed]",
            "text/plain": [
              "<Figure size 432x288 with 1 Axes>"
            ]
          },
          "metadata": {
            "tags": []
          }
        },
        {
          "output_type": "display_data",
          "data": {
            "image/png": "[encoded data removed]",
            "text/plain": [
              "<Figure size 432x288 with 1 Axes>"
            ]
          },
          "metadata": {
            "tags": []
          }
        }
      ]
    },
    {
      "metadata": {
        "id": "Eos_62qIgVXX",
        "colab_type": "code",
        "colab": {}
      },
      "cell_type": "code",
      "source": [
        "from sklearn.metrics import confusion_matrix\n",
        "pred = model.predict(X_test)\n",
        "pred = np.argmax(pred,axis = 1) \n",
        "y_true = np.argmax(y_test,axis = 1)\n"
      ],
      "execution_count": 0,
      "outputs": []
    },
    {
      "metadata": {
        "id": "Ofay4zRpgVXd",
        "colab_type": "code",
        "colab": {},
        "outputId": "370aa776-2f46-4698-854b-20e725699517"
      },
      "cell_type": "code",
      "source": [
        "from sklearn.metrics import confusion_matrix\n",
        "\n",
        "confusion_matrix(y_true, pred)"
      ],
      "execution_count": 0,
      "outputs": [
        {
          "output_type": "execute_result",
          "data": {
            "text/plain": [
              "array([[134, 100],\n",
              "       [ 11, 379]])"
            ]
          },
          "metadata": {
            "tags": []
          },
          "execution_count": 41
        }
      ]
    },
    {
      "metadata": {
        "id": "-XNvnbJlgVXk",
        "colab_type": "code",
        "colab": {},
        "outputId": "04917d3d-0a05-403b-a573-e0dd69babd7c"
      },
      "cell_type": "code",
      "source": [
        "acc = (134+379)/(134+100+11+379)\n",
        "print(acc)"
      ],
      "execution_count": 0,
      "outputs": [
        {
          "output_type": "stream",
          "text": [
            "0.8221153846153846\n"
          ],
          "name": "stdout"
        }
      ]
    },
    {
      "metadata": {
        "id": "qR__nx2egVXr",
        "colab_type": "code",
        "colab": {}
      },
      "cell_type": "code",
      "source": [
        ""
      ],
      "execution_count": 0,
      "outputs": []
    }
  ]
}